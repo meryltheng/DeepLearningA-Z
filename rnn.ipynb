{
  "nbformat": 4,
  "nbformat_minor": 0,
  "metadata": {
    "colab": {
      "provenance": [],
      "toc_visible": true,
      "include_colab_link": true
    },
    "kernelspec": {
      "name": "python3",
      "display_name": "Python 3"
    }
  },
  "cells": [
    {
      "cell_type": "markdown",
      "metadata": {
        "id": "view-in-github",
        "colab_type": "text"
      },
      "source": [
        "<a href=\"https://colab.research.google.com/github/meryltheng/DeepLearningA-Z/blob/main/rnn.ipynb\" target=\"_parent\"><img src=\"https://colab.research.google.com/assets/colab-badge.svg\" alt=\"Open In Colab\"/></a>"
      ]
    },
    {
      "cell_type": "markdown",
      "metadata": {
        "id": "xpAuMVCwfWs8"
      },
      "source": [
        "# Recurrent Neural Network"
      ]
    },
    {
      "cell_type": "markdown",
      "source": [
        "Aim: predict the direction (i.e., up or down) `Open` Google stock Price for the next month (Jan 2017).\n",
        "\n",
        "[Note: best to use Spyder for this to be able to view data like in RStudio]"
      ],
      "metadata": {
        "id": "ArhZqsob6QIo"
      }
    },
    {
      "cell_type": "markdown",
      "metadata": {
        "id": "nxJfRe4bfYVA"
      },
      "source": [
        "## Part 1 - Data Preprocessing"
      ]
    },
    {
      "cell_type": "markdown",
      "metadata": {
        "id": "ir9zwETrfbrp"
      },
      "source": [
        "### Importing the libraries"
      ]
    },
    {
      "cell_type": "code",
      "source": [
        "import numpy as np\n",
        "import matplotlib.pyplot as plt\n",
        "import pandas as pd"
      ],
      "metadata": {
        "id": "9tDa3oW_6wUi"
      },
      "execution_count": null,
      "outputs": []
    },
    {
      "cell_type": "markdown",
      "metadata": {
        "id": "nQ47JAxrgmaL"
      },
      "source": [
        "### Importing the training set"
      ]
    },
    {
      "cell_type": "markdown",
      "source": [
        "We're training the RNN on the training set only.\n",
        "Validation will be on the test set.\n",
        "\n",
        "Numpy arrays are the only inputs allowed."
      ],
      "metadata": {
        "id": "VmDEpe2W7UKA"
      }
    },
    {
      "cell_type": "code",
      "source": [
        "dataset_train = pd.read_csv('Google_Stock_Price_Train.csv') # dataframe\n",
        "training_set = dataset_train.iloc[:, 1:2].values # to get a numpy array, we take the range 1:2; since only the upperbound is taken, vals in col 2 won't actually be included; then add .values"
      ],
      "metadata": {
        "id": "kry_aFvr7lnP"
      },
      "execution_count": null,
      "outputs": []
    },
    {
      "cell_type": "code",
      "source": [
        "type(training_set)"
      ],
      "metadata": {
        "colab": {
          "base_uri": "https://localhost:8080/"
        },
        "id": "xuAnlfwu9REh",
        "outputId": "a16e4e5a-5dc0-4efc-9a2b-3f24e79974ae"
      },
      "execution_count": null,
      "outputs": [
        {
          "output_type": "execute_result",
          "data": {
            "text/plain": [
              "numpy.ndarray"
            ]
          },
          "metadata": {},
          "execution_count": 3
        }
      ]
    },
    {
      "cell_type": "markdown",
      "metadata": {
        "id": "HT8_2UJegtG5"
      },
      "source": [
        "### Feature Scaling"
      ]
    },
    {
      "cell_type": "code",
      "source": [
        "from sklearn.preprocessing import MinMaxScaler\n",
        "sc = MinMaxScaler(feature_range = (0,1)) # create object of MinMaxScaler class\n",
        "training_set_scaled = sc.fit_transform(training_set) # fit gets the min and max, transform applies the transformation"
      ],
      "metadata": {
        "id": "P1-Jxm2I6xmK"
      },
      "execution_count": null,
      "outputs": []
    },
    {
      "cell_type": "markdown",
      "metadata": {
        "id": "JyYgYocqhNUg"
      },
      "source": [
        "### Creating a data structure with 60 timesteps and 1 output"
      ]
    },
    {
      "cell_type": "markdown",
      "source": [
        "At each time `t`, the RNN is looking at the 60 previous timesteps to predict the next output (at time `t+1`).\n",
        "\n",
        "[Warning: the wrong number of timesteps could lead to overfitting, i..e., to small.]"
      ],
      "metadata": {
        "id": "WmM0O85m-Tof"
      }
    },
    {
      "cell_type": "code",
      "source": [
        "X_train = [] # 60 previous stock prices\n",
        "y_train = [] # next day stock price (t+1)\n",
        "for i in range(60, 1258): # rem that upperbound is exluded in range (so, 1257+1)\n",
        "    X_train.append(training_set_scaled[i-60:i, 0])\n",
        "    y_train.append(training_set_scaled[i, 0])\n",
        "X_train, y_train = np.array(X_train), np.array(y_train)"
      ],
      "metadata": {
        "id": "sj0Ex6-m6y3T"
      },
      "execution_count": null,
      "outputs": []
    },
    {
      "cell_type": "markdown",
      "source": [
        "REMEMBER the annoying fact that indices in Python start from 0.\n",
        "\n",
        "Next step, add new dimension in structure. To predict, we can use several other indicators (on top of `Open`), like stock price on market close (`Close`)."
      ],
      "metadata": {
        "id": "Jo-PfIZCAVkB"
      }
    },
    {
      "cell_type": "markdown",
      "metadata": {
        "id": "D8yaN7Zvi95l"
      },
      "source": [
        "### Reshaping"
      ]
    },
    {
      "cell_type": "markdown",
      "source": [
        "Anytime you want to add a dimension to your numpy array, use the Reshape function.\n",
        "\n",
        "To define the input dimensions, check https://keras.io/api/layers/recurrent_layers/rnn/."
      ],
      "metadata": {
        "id": "b5_0N_uUDWRZ"
      }
    },
    {
      "cell_type": "code",
      "source": [
        "X_train = np.reshape(X_train, (X_train.shape[0], X_train.shape[1], 1))"
      ],
      "metadata": {
        "id": "ZmBTLJv6DUye"
      },
      "execution_count": null,
      "outputs": []
    },
    {
      "cell_type": "markdown",
      "metadata": {
        "id": "ZRRSOJeVjEWV"
      },
      "source": [
        "## Part 2 - Building and Training the RNN"
      ]
    },
    {
      "cell_type": "markdown",
      "metadata": {
        "id": "k4XV88JMjHXG"
      },
      "source": [
        "### Importing the Keras libraries and packages"
      ]
    },
    {
      "cell_type": "code",
      "source": [
        "from keras.models import Sequential\n",
        "from keras.layers import Dense\n",
        "from keras.layers import LSTM\n",
        "from keras.layers import Dropout"
      ],
      "metadata": {
        "id": "jbwP8T5_FyBC"
      },
      "execution_count": null,
      "outputs": []
    },
    {
      "cell_type": "markdown",
      "metadata": {
        "id": "FEIE-1s9jNzC"
      },
      "source": [
        "### Initialising the RNN"
      ]
    },
    {
      "cell_type": "code",
      "source": [
        "regressor = Sequential() # we are predicting a continuous output, thus a regression (vs classification)"
      ],
      "metadata": {
        "id": "RjBsfogZGAkR"
      },
      "execution_count": null,
      "outputs": []
    },
    {
      "cell_type": "markdown",
      "metadata": {
        "id": "62eg1OPGjT8z"
      },
      "source": [
        "### Adding the first LSTM layer and some Dropout regularisation"
      ]
    },
    {
      "cell_type": "code",
      "source": [
        "regressor.add(LSTM(units = 50, # memory units or neurons; need high dimensionality to capture complex stock price\n",
        "                   return_sequences = True, # because we're adding another NN (ie, stacked NN)\n",
        "                   input_shape = (X_train.shape[1], 1))) # only the last two dimensions\n",
        "regressor.add(Dropout(0.2)) # Dropout regularization; rate of neurons you want to ignore/drop during training; 20% of 50 neurons"
      ],
      "metadata": {
        "id": "mbe3iwpeGiNo"
      },
      "execution_count": null,
      "outputs": []
    },
    {
      "cell_type": "markdown",
      "metadata": {
        "id": "3XBIYLyOjlMx"
      },
      "source": [
        "### Adding a second LSTM layer and some Dropout regularisation"
      ]
    },
    {
      "cell_type": "code",
      "source": [
        "regressor.add(LSTM(units = 50, return_sequences = True))  # no need to specify input shape here bc already specified in first layer\n",
        "regressor.add(Dropout(0.2))"
      ],
      "metadata": {
        "id": "q-GQyLCGH3KS"
      },
      "execution_count": null,
      "outputs": []
    },
    {
      "cell_type": "markdown",
      "metadata": {
        "id": "Ey3fHVnGj1cu"
      },
      "source": [
        "### Adding a third LSTM layer and some Dropout regularisation"
      ]
    },
    {
      "cell_type": "code",
      "source": [
        "regressor.add(LSTM(units = 50, return_sequences = True))\n",
        "regressor.add(Dropout(0.2))"
      ],
      "metadata": {
        "id": "vhkPFXMHKumF"
      },
      "execution_count": null,
      "outputs": []
    },
    {
      "cell_type": "markdown",
      "metadata": {
        "id": "SYTrtfTmj933"
      },
      "source": [
        "### Adding a fourth LSTM layer and some Dropout regularisation"
      ]
    },
    {
      "cell_type": "code",
      "source": [
        "regressor.add(LSTM(units = 50, return_sequences = False)) # on the last layer, not returning sequences\n",
        "regressor.add(Dropout(0.2))"
      ],
      "metadata": {
        "id": "-s5_3IxdK3BS"
      },
      "execution_count": null,
      "outputs": []
    },
    {
      "cell_type": "markdown",
      "metadata": {
        "id": "9ABI6rOIkHhk"
      },
      "source": [
        "### Adding the output layer"
      ]
    },
    {
      "cell_type": "code",
      "source": [
        "regressor.add(Dense(units = 1)) # adding a fully connected layer (ie. Dense class); one output (ie. predicted stock price)"
      ],
      "metadata": {
        "id": "yunlI4NuLT3_"
      },
      "execution_count": null,
      "outputs": []
    },
    {
      "cell_type": "markdown",
      "metadata": {
        "id": "zLx4K7uUkPSh"
      },
      "source": [
        "### Compiling the RNN"
      ]
    },
    {
      "cell_type": "markdown",
      "source": [
        "RMSProp is a type of advanced stochastic gradient descent that is recommended for RNN.\n",
        "\n",
        "But in our implementation, we use the `adam` optimizer, which is a safe and powerful choice."
      ],
      "metadata": {
        "id": "4sw-nEubMV9O"
      }
    },
    {
      "cell_type": "code",
      "source": [
        "regressor.compile(optimizer = 'adam', loss = 'mean_squared_error') # MSE because output is continuous"
      ],
      "metadata": {
        "id": "oUECoyapL13t"
      },
      "execution_count": null,
      "outputs": []
    },
    {
      "cell_type": "markdown",
      "metadata": {
        "id": "-mPhwKGkkebi"
      },
      "source": [
        "### Fitting the RNN to the Training set"
      ]
    },
    {
      "cell_type": "code",
      "source": [
        "regressor.fit(X_train, y_train, epochs = 100, batch_size = 32) # weights updated every 32 stock prices"
      ],
      "metadata": {
        "colab": {
          "base_uri": "https://localhost:8080/"
        },
        "id": "0nMBxeolM95z",
        "outputId": "2a1a9d58-6923-4603-ded2-595b4bd8abeb"
      },
      "execution_count": null,
      "outputs": [
        {
          "output_type": "stream",
          "name": "stdout",
          "text": [
            "Epoch 1/100\n",
            "38/38 [==============================] - 14s 127ms/step - loss: 0.0436\n",
            "Epoch 2/100\n",
            "38/38 [==============================] - 6s 159ms/step - loss: 0.0063\n",
            "Epoch 3/100\n",
            "38/38 [==============================] - 5s 125ms/step - loss: 0.0054\n",
            "Epoch 4/100\n",
            "38/38 [==============================] - 5s 124ms/step - loss: 0.0058\n",
            "Epoch 5/100\n",
            "38/38 [==============================] - 6s 158ms/step - loss: 0.0048\n",
            "Epoch 6/100\n",
            "38/38 [==============================] - 5s 124ms/step - loss: 0.0050\n",
            "Epoch 7/100\n",
            "38/38 [==============================] - 6s 160ms/step - loss: 0.0052\n",
            "Epoch 8/100\n",
            "38/38 [==============================] - 5s 133ms/step - loss: 0.0054\n",
            "Epoch 9/100\n",
            "38/38 [==============================] - 5s 134ms/step - loss: 0.0042\n",
            "Epoch 10/100\n",
            "38/38 [==============================] - 6s 163ms/step - loss: 0.0045\n",
            "Epoch 11/100\n",
            "38/38 [==============================] - 5s 125ms/step - loss: 0.0046\n",
            "Epoch 12/100\n",
            "38/38 [==============================] - 6s 159ms/step - loss: 0.0039\n",
            "Epoch 13/100\n",
            "38/38 [==============================] - 5s 124ms/step - loss: 0.0041\n",
            "Epoch 14/100\n",
            "38/38 [==============================] - 6s 158ms/step - loss: 0.0046\n",
            "Epoch 15/100\n",
            "38/38 [==============================] - 6s 162ms/step - loss: 0.0043\n",
            "Epoch 16/100\n",
            "38/38 [==============================] - 5s 126ms/step - loss: 0.0039\n",
            "Epoch 17/100\n",
            "38/38 [==============================] - 6s 161ms/step - loss: 0.0042\n",
            "Epoch 18/100\n",
            "38/38 [==============================] - 5s 126ms/step - loss: 0.0036\n",
            "Epoch 19/100\n",
            "38/38 [==============================] - 6s 159ms/step - loss: 0.0043\n",
            "Epoch 20/100\n",
            "38/38 [==============================] - 5s 127ms/step - loss: 0.0034\n",
            "Epoch 21/100\n",
            "38/38 [==============================] - 5s 126ms/step - loss: 0.0033\n",
            "Epoch 22/100\n",
            "38/38 [==============================] - 6s 161ms/step - loss: 0.0033\n",
            "Epoch 23/100\n",
            "38/38 [==============================] - 5s 127ms/step - loss: 0.0035\n",
            "Epoch 24/100\n",
            "38/38 [==============================] - 6s 159ms/step - loss: 0.0034\n",
            "Epoch 25/100\n",
            "38/38 [==============================] - 5s 128ms/step - loss: 0.0031\n",
            "Epoch 26/100\n",
            "38/38 [==============================] - 5s 127ms/step - loss: 0.0038\n",
            "Epoch 27/100\n",
            "38/38 [==============================] - 6s 158ms/step - loss: 0.0030\n",
            "Epoch 28/100\n",
            "38/38 [==============================] - 5s 126ms/step - loss: 0.0030\n",
            "Epoch 29/100\n",
            "38/38 [==============================] - 6s 159ms/step - loss: 0.0030\n",
            "Epoch 30/100\n",
            "38/38 [==============================] - 5s 124ms/step - loss: 0.0032\n",
            "Epoch 31/100\n",
            "38/38 [==============================] - 5s 134ms/step - loss: 0.0030\n",
            "Epoch 32/100\n",
            "38/38 [==============================] - 6s 148ms/step - loss: 0.0027\n",
            "Epoch 33/100\n",
            "38/38 [==============================] - 5s 125ms/step - loss: 0.0029\n",
            "Epoch 34/100\n",
            "38/38 [==============================] - 6s 158ms/step - loss: 0.0031\n",
            "Epoch 35/100\n",
            "38/38 [==============================] - 5s 126ms/step - loss: 0.0029\n",
            "Epoch 36/100\n",
            "38/38 [==============================] - 5s 136ms/step - loss: 0.0027\n",
            "Epoch 37/100\n",
            "38/38 [==============================] - 6s 145ms/step - loss: 0.0030\n",
            "Epoch 38/100\n",
            "38/38 [==============================] - 5s 126ms/step - loss: 0.0026\n",
            "Epoch 39/100\n",
            "38/38 [==============================] - 6s 159ms/step - loss: 0.0026\n",
            "Epoch 40/100\n",
            "38/38 [==============================] - 5s 124ms/step - loss: 0.0026\n",
            "Epoch 41/100\n",
            "38/38 [==============================] - 6s 147ms/step - loss: 0.0028\n",
            "Epoch 42/100\n",
            "38/38 [==============================] - 5s 135ms/step - loss: 0.0027\n",
            "Epoch 43/100\n",
            "38/38 [==============================] - 5s 124ms/step - loss: 0.0024\n",
            "Epoch 44/100\n",
            "38/38 [==============================] - 6s 160ms/step - loss: 0.0032\n",
            "Epoch 45/100\n",
            "38/38 [==============================] - 5s 125ms/step - loss: 0.0027\n",
            "Epoch 46/100\n",
            "38/38 [==============================] - 6s 155ms/step - loss: 0.0026\n",
            "Epoch 47/100\n",
            "38/38 [==============================] - 5s 129ms/step - loss: 0.0026\n",
            "Epoch 48/100\n",
            "38/38 [==============================] - 5s 127ms/step - loss: 0.0025\n",
            "Epoch 49/100\n",
            "38/38 [==============================] - 6s 159ms/step - loss: 0.0024\n",
            "Epoch 50/100\n",
            "38/38 [==============================] - 5s 127ms/step - loss: 0.0024\n",
            "Epoch 51/100\n",
            "38/38 [==============================] - 7s 181ms/step - loss: 0.0025\n",
            "Epoch 52/100\n",
            "38/38 [==============================] - 6s 145ms/step - loss: 0.0025\n",
            "Epoch 53/100\n",
            "38/38 [==============================] - 5s 127ms/step - loss: 0.0023\n",
            "Epoch 54/100\n",
            "38/38 [==============================] - 6s 161ms/step - loss: 0.0023\n",
            "Epoch 55/100\n",
            "38/38 [==============================] - 5s 127ms/step - loss: 0.0021\n",
            "Epoch 56/100\n",
            "38/38 [==============================] - 6s 151ms/step - loss: 0.0023\n",
            "Epoch 57/100\n",
            "38/38 [==============================] - 5s 132ms/step - loss: 0.0025\n",
            "Epoch 58/100\n",
            "38/38 [==============================] - 5s 126ms/step - loss: 0.0021\n",
            "Epoch 59/100\n",
            "38/38 [==============================] - 6s 160ms/step - loss: 0.0025\n",
            "Epoch 60/100\n",
            "38/38 [==============================] - 5s 124ms/step - loss: 0.0022\n",
            "Epoch 61/100\n",
            "38/38 [==============================] - 6s 159ms/step - loss: 0.0021\n",
            "Epoch 62/100\n",
            "38/38 [==============================] - 5s 125ms/step - loss: 0.0023\n",
            "Epoch 63/100\n",
            "38/38 [==============================] - 5s 126ms/step - loss: 0.0022\n",
            "Epoch 64/100\n",
            "38/38 [==============================] - 6s 160ms/step - loss: 0.0022\n",
            "Epoch 65/100\n",
            "38/38 [==============================] - 5s 125ms/step - loss: 0.0019\n",
            "Epoch 66/100\n",
            "38/38 [==============================] - 6s 158ms/step - loss: 0.0020\n",
            "Epoch 67/100\n",
            "38/38 [==============================] - 5s 126ms/step - loss: 0.0019\n",
            "Epoch 68/100\n",
            "38/38 [==============================] - 5s 125ms/step - loss: 0.0021\n",
            "Epoch 69/100\n",
            "38/38 [==============================] - 6s 157ms/step - loss: 0.0020\n",
            "Epoch 70/100\n",
            "38/38 [==============================] - 5s 125ms/step - loss: 0.0019\n",
            "Epoch 71/100\n",
            "38/38 [==============================] - 6s 159ms/step - loss: 0.0020\n",
            "Epoch 72/100\n",
            "38/38 [==============================] - 5s 125ms/step - loss: 0.0021\n",
            "Epoch 73/100\n",
            "38/38 [==============================] - 5s 129ms/step - loss: 0.0023\n",
            "Epoch 74/100\n",
            "38/38 [==============================] - 6s 152ms/step - loss: 0.0019\n",
            "Epoch 75/100\n",
            "38/38 [==============================] - 5s 125ms/step - loss: 0.0018\n",
            "Epoch 76/100\n",
            "38/38 [==============================] - 6s 161ms/step - loss: 0.0018\n",
            "Epoch 77/100\n",
            "38/38 [==============================] - 5s 124ms/step - loss: 0.0019\n",
            "Epoch 78/100\n",
            "38/38 [==============================] - 5s 137ms/step - loss: 0.0018\n",
            "Epoch 79/100\n",
            "38/38 [==============================] - 6s 145ms/step - loss: 0.0017\n",
            "Epoch 80/100\n",
            "38/38 [==============================] - 5s 125ms/step - loss: 0.0016\n",
            "Epoch 81/100\n",
            "38/38 [==============================] - 6s 158ms/step - loss: 0.0016\n",
            "Epoch 82/100\n",
            "38/38 [==============================] - 5s 125ms/step - loss: 0.0017\n",
            "Epoch 83/100\n",
            "38/38 [==============================] - 6s 146ms/step - loss: 0.0017\n",
            "Epoch 84/100\n",
            "38/38 [==============================] - 5s 138ms/step - loss: 0.0016\n",
            "Epoch 85/100\n",
            "38/38 [==============================] - 5s 125ms/step - loss: 0.0017\n",
            "Epoch 86/100\n",
            "38/38 [==============================] - 6s 160ms/step - loss: 0.0016\n",
            "Epoch 87/100\n",
            "38/38 [==============================] - 5s 130ms/step - loss: 0.0017\n",
            "Epoch 88/100\n",
            "38/38 [==============================] - 7s 187ms/step - loss: 0.0017\n",
            "Epoch 89/100\n",
            "38/38 [==============================] - 5s 125ms/step - loss: 0.0017\n",
            "Epoch 90/100\n",
            "38/38 [==============================] - 5s 133ms/step - loss: 0.0016\n",
            "Epoch 91/100\n",
            "38/38 [==============================] - 6s 149ms/step - loss: 0.0017\n",
            "Epoch 92/100\n",
            "38/38 [==============================] - 5s 124ms/step - loss: 0.0016\n",
            "Epoch 93/100\n",
            "38/38 [==============================] - 6s 159ms/step - loss: 0.0016\n",
            "Epoch 94/100\n",
            "38/38 [==============================] - 5s 124ms/step - loss: 0.0017\n",
            "Epoch 95/100\n",
            "38/38 [==============================] - 5s 138ms/step - loss: 0.0016\n",
            "Epoch 96/100\n",
            "38/38 [==============================] - 6s 144ms/step - loss: 0.0016\n",
            "Epoch 97/100\n",
            "38/38 [==============================] - 5s 125ms/step - loss: 0.0018\n",
            "Epoch 98/100\n",
            "38/38 [==============================] - 6s 161ms/step - loss: 0.0014\n",
            "Epoch 99/100\n",
            "38/38 [==============================] - 5s 126ms/step - loss: 0.0015\n",
            "Epoch 100/100\n",
            "38/38 [==============================] - 6s 145ms/step - loss: 0.0015\n"
          ]
        },
        {
          "output_type": "execute_result",
          "data": {
            "text/plain": [
              "<keras.callbacks.History at 0x7f997ff4a710>"
            ]
          },
          "metadata": {},
          "execution_count": 15
        }
      ]
    },
    {
      "cell_type": "markdown",
      "source": [
        "When doing training on training set, beware of very small loss (i.e., overfitting). Here, we trained on test set with regularization to prevent that."
      ],
      "metadata": {
        "id": "8u-mu9gIRBSy"
      }
    },
    {
      "cell_type": "markdown",
      "metadata": {
        "id": "4hRau_lIkrE8"
      },
      "source": [
        "## Part 3 - Making the predictions and visualising the results"
      ]
    },
    {
      "cell_type": "markdown",
      "metadata": {
        "id": "SgJO6qEDksxD"
      },
      "source": [
        "### Getting the real stock price of 2017"
      ]
    },
    {
      "cell_type": "code",
      "source": [
        "dataset_test = pd.read_csv('Google_Stock_Price_Test.csv') # dataframe\n",
        "real_stock_price = dataset_test.iloc[:, 1:2].values"
      ],
      "metadata": {
        "id": "jCT18WWtSSjV"
      },
      "execution_count": null,
      "outputs": []
    },
    {
      "cell_type": "markdown",
      "metadata": {
        "id": "GrvrLblxkz42"
      },
      "source": [
        "### Getting the predicted stock price of 2017"
      ]
    },
    {
      "cell_type": "markdown",
      "source": [
        "Scale only the inputs (`dataset_train`), we're not changing test values."
      ],
      "metadata": {
        "id": "lAIXmCHlflPd"
      }
    },
    {
      "cell_type": "code",
      "source": [
        "dataset_total = pd.concat((dataset_train['Open'], dataset_test['Open']), axis = 0) # horiz concat is 1; vertical is 0\n",
        "inputs = dataset_total[len(dataset_total) - len(dataset_test) - 60:].values # gives us price on last day of Jan 2017\n",
        "inputs = inputs.reshape(-1,1) # to a np array\n",
        "inputs = sc.transform(inputs) # input format expected by the NN; directly apply transform method to get the previous scaling on which regressor was trained"
      ],
      "metadata": {
        "id": "ndG6MNuafiCw"
      },
      "execution_count": 17,
      "outputs": []
    },
    {
      "cell_type": "markdown",
      "source": [
        "Then convert into 3D NumPy array."
      ],
      "metadata": {
        "id": "qy_CxUW-jLb5"
      }
    },
    {
      "cell_type": "code",
      "source": [
        "X_test = []\n",
        "for i in range(60, 80): # 20 financial days in Jan 2017; ie. 60+20=80\n",
        "    X_test.append(inputs[i-60:i, 0])\n",
        "X_test = np.array(X_test)\n",
        "X_test = np.reshape(X_test, (X_test.shape[0], X_test.shape[1], 1)) # 3D structure expected by RNN\n",
        "predicted_stock_price = regressor.predict(X_test)\n",
        "predicted_stock_price = sc.inverse_transform(predicted_stock_price) # convert back to original values"
      ],
      "metadata": {
        "colab": {
          "base_uri": "https://localhost:8080/"
        },
        "id": "rEDlemorjJ4c",
        "outputId": "92ae0b53-9f8d-4148-8932-93e0079d7955"
      },
      "execution_count": 18,
      "outputs": [
        {
          "output_type": "stream",
          "name": "stdout",
          "text": [
            "1/1 [==============================] - 2s 2s/step\n"
          ]
        }
      ]
    },
    {
      "cell_type": "markdown",
      "metadata": {
        "id": "iFTNs3YHk6FQ"
      },
      "source": [
        "### Visualising the results"
      ]
    },
    {
      "cell_type": "code",
      "source": [
        "plt.plot(real_stock_price, color = 'red', label = 'Real Google Stock Price')\n",
        "plt.plot(predicted_stock_price, color = 'blue', label = 'Predicted Google Stock Price')\n",
        "plt.title('Google Stock Price Prediction')\n",
        "plt.xlabel('Time')\n",
        "plt.ylabel('Google Stock Price')\n",
        "plt.legend()\n",
        "plt.show()"
      ],
      "metadata": {
        "colab": {
          "base_uri": "https://localhost:8080/",
          "height": 472
        },
        "id": "BHPmkIM8jIWl",
        "outputId": "666633ea-06a9-47cc-e2f1-ff2a8b7712cc"
      },
      "execution_count": 21,
      "outputs": [
        {
          "output_type": "display_data",
          "data": {
            "text/plain": [
              "<Figure size 640x480 with 1 Axes>"
            ],
            "image/png": "[encoded data removed]"
          },
          "metadata": {}
        }
      ]
    },
    {
      "cell_type": "markdown",
      "source": [
        "Model cannot react to fast non-linear changes (ie. spikes). For parts with smooth changes, model works well.\n",
        "\n",
        "[Note: for regression, RMSE is typically used to evaluate model performance. However, for Stock Price prediction, we are more interested in the directions taken by our predictions, rather than the closeness of their values to the real stock price. The prediction could be close, but could take the opposite direction from the real stock price!!]"
      ],
      "metadata": {
        "id": "XQc4W6h4m7v1"
      }
    }
  ]
}